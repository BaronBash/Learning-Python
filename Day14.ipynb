{
 "cells": [
  {
   "cell_type": "code",
   "execution_count": 2,
   "metadata": {},
   "outputs": [
    {
     "name": "stdout",
     "output_type": "stream",
     "text": [
      "Enter the first number100\n",
      "Enter the second number0\n",
      "you have encountered one or more errors\n"
     ]
    }
   ],
   "source": [
    "try:\n",
    "    num1 = int(input('Enter the first number'))\n",
    "    num2 = int(input('Enter the second number'))\n",
    "    print(num1/num2)\n",
    "except:\n",
    "    print('you have encountered one or more errors')"
   ]
  },
  {
   "cell_type": "code",
   "execution_count": 12,
   "metadata": {},
   "outputs": [
    {
     "name": "stdout",
     "output_type": "stream",
     "text": [
      "Enter the first number4\n",
      "Enter the second number3\n",
      "1.3333333333333333\n"
     ]
    }
   ],
   "source": [
    "try:\n",
    "    num1 = int(input('Enter the first number'))\n",
    "    num2 = int(input('Enter the second number'))\n",
    "    print(num1/num2)\n",
    "except SyntaxError:\n",
    "    print('you have encountered one or more errors')\n",
    "except EOFError:\n",
    "    print ('Hey one bracket is missing')\n",
    "except ValueError:\n",
    "    print ('You have entered a wrong value')\n",
    "except ZeroDivisionError:\n",
    "    print ('Hey a number cannot be divisible by 0')\n",
    "except:\n",
    "    print('You have encountered a problrem')"
   ]
  },
  {
   "cell_type": "code",
   "execution_count": 13,
   "metadata": {},
   "outputs": [
    {
     "name": "stdout",
     "output_type": "stream",
     "text": [
      "Enter the first number10\n",
      "Enter the second number10\n",
      "1.0\n",
      "10000000000\n"
     ]
    }
   ],
   "source": [
    "try:\n",
    "    num1 = int(input('Enter the first number'))\n",
    "    num2 = int(input('Enter the second number'))\n",
    "    print(num1/num2)\n",
    "except SyntaxError:\n",
    "    print('you have encountered one or more errors')\n",
    "except EOFError:\n",
    "    print ('Hey one bracket is missing')\n",
    "except ValueError:\n",
    "    print ('You have entered a wrong value')\n",
    "except ZeroDivisionError:\n",
    "    print ('Hey a number cannot be divisible by 0')\n",
    "except:\n",
    "    print('You have encountered a problrem')\n",
    "else:\n",
    "    print (num1**num2)"
   ]
  },
  {
   "cell_type": "code",
   "execution_count": 14,
   "metadata": {},
   "outputs": [
    {
     "name": "stdout",
     "output_type": "stream",
     "text": [
      "Enter the first number10\n",
      "Enter the second number11\n",
      "0.9090909090909091\n",
      "100000000000\n",
      "End of program\n"
     ]
    }
   ],
   "source": [
    "try:\n",
    "    num1 = int(input('Enter the first number'))\n",
    "    num2 = int(input('Enter the second number'))\n",
    "    print(num1/num2)\n",
    "except SyntaxError:\n",
    "    print('you have encountered one or more errors')\n",
    "except EOFError:\n",
    "    print ('Hey one bracket is missing')\n",
    "except ValueError:\n",
    "    print ('You have entered a wrong value')\n",
    "except ZeroDivisionError:\n",
    "    print ('Hey a number cannot be divisible by 0')\n",
    "except:\n",
    "    print('You have encountered a problrem')\n",
    "else:\n",
    "    print (num1**num2)\n",
    "finally:\n",
    "    print ('End of program')"
   ]
  },
  {
   "cell_type": "code",
   "execution_count": 15,
   "metadata": {},
   "outputs": [
    {
     "ename": "SyntaxError",
     "evalue": "invalid syntax (<ipython-input-15-56cecdbd4fd9>, line 16)",
     "output_type": "error",
     "traceback": [
      "\u001b[1;36m  File \u001b[1;32m\"<ipython-input-15-56cecdbd4fd9>\"\u001b[1;36m, line \u001b[1;32m16\u001b[0m\n\u001b[1;33m    elif:\u001b[0m\n\u001b[1;37m    ^\u001b[0m\n\u001b[1;31mSyntaxError\u001b[0m\u001b[1;31m:\u001b[0m invalid syntax\n"
     ]
    }
   ],
   "source": [
    "#Using error handling write a simple calculator that will add, multiply and divide any two numbers\n",
    "try:\n",
    "    num1 = int(input('Enter the first number'))\n",
    "    num2 = int(input('Enter the second number'))\n",
    "    print(num1/num2)\n",
    "except SyntaxError:\n",
    "    print('you have encountered one or more errors')\n",
    "except EOFError:\n",
    "    print ('Hey one bracket is missing')\n",
    "except ValueError:\n",
    "    print ('You have entered a wrong value')\n",
    "except ZeroDivisionError:\n",
    "    print ('Hey a number cannot be divisible by 0')\n",
    "except:\n",
    "    print('You have encountered a problrem')\n",
    "else:\n",
    "    print (num1*num2)\n",
    "elif:\n",
    "    print (num1/num2)\n",
    "elif:\n",
    "    print (num1-num2)\n",
    "elif:\n",
    "    print (num1+num2)\n",
    "finally:\n",
    "    print ('End of program')"
   ]
  },
  {
   "cell_type": "code",
   "execution_count": 30,
   "metadata": {
    "scrolled": false
   },
   "outputs": [
    {
     "name": "stdout",
     "output_type": "stream",
     "text": [
      "Enter the first number619\n",
      "Enter the second number419\n",
      "Pick a choice (A,B,C or D)B\n",
      "is equal to 1.477326968973747\n",
      "End of program\n"
     ]
    }
   ],
   "source": [
    "#Using error handling write a simple calculator that will add, multiply and divide any two numbers\n",
    "try:\n",
    "    \n",
    "    num1 = int(input('Enter the first number'))\n",
    "    num2 = int(input('Enter the second number'))\n",
    "    choice = input('Pick a choice (A,B,C or D)')\n",
    "    if choice == 'A':\n",
    "        print (f'is equal to {num1*num2}')\n",
    "    elif choice == 'B':\n",
    "        print (f'is equal to {num1/num2}')\n",
    "    elif choice == 'C':\n",
    "        print (f'is equal to {num1-num2}')\n",
    "    elif choice == 'D':\n",
    "        print (f'is equal to {num1+num2}')\n",
    "except SyntaxError:\n",
    "    print('you have encountered one or more errors')\n",
    "except EOFError:\n",
    "    print ('Hey one bracket is missing')\n",
    "except ValueError:\n",
    "    print ('You have entered a wrong value')\n",
    "except ZeroDivisionError:\n",
    "    print ('Hey a number cannot be divisible by 0')\n",
    "except:\n",
    "    print('You have encountered a problrem')\n",
    "finally:\n",
    "    print ('End of program')"
   ]
  },
  {
   "cell_type": "code",
   "execution_count": null,
   "metadata": {},
   "outputs": [],
   "source": []
  }
 ],
 "metadata": {
  "kernelspec": {
   "display_name": "Python 3",
   "language": "python",
   "name": "python3"
  },
  "language_info": {
   "codemirror_mode": {
    "name": "ipython",
    "version": 3
   },
   "file_extension": ".py",
   "mimetype": "text/x-python",
   "name": "python",
   "nbconvert_exporter": "python",
   "pygments_lexer": "ipython3",
   "version": "3.8.5"
  }
 },
 "nbformat": 4,
 "nbformat_minor": 4
}
