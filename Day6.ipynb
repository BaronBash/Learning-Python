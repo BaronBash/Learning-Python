{
 "cells": [
  {
   "cell_type": "code",
   "execution_count": 3,
   "metadata": {},
   "outputs": [
    {
     "name": "stdout",
     "output_type": "stream",
     "text": [
      "Welcome to python\n"
     ]
    }
   ],
   "source": [
    "def greet():# a function with a parameter or an arguement\n",
    "    print('Welcome to python')\n",
    "greet()"
   ]
  },
  {
   "cell_type": "code",
   "execution_count": 4,
   "metadata": {},
   "outputs": [
    {
     "name": "stdout",
     "output_type": "stream",
     "text": [
      "welcome to python class simeone\n"
     ]
    }
   ],
   "source": [
    "def greet2(name):# a function with a parameter or an arguement\n",
    "    print(f'welcome to python class {name}')\n",
    "greet2('simeone')"
   ]
  },
  {
   "cell_type": "code",
   "execution_count": 7,
   "metadata": {},
   "outputs": [
    {
     "name": "stdout",
     "output_type": "stream",
     "text": [
      "welcome to python class Baron\n"
     ]
    }
   ],
   "source": [
    "greet2('Baron')"
   ]
  },
  {
   "cell_type": "code",
   "execution_count": 16,
   "metadata": {},
   "outputs": [
    {
     "name": "stdout",
     "output_type": "stream",
     "text": [
      "please provide your name:Baron\n",
      "please provide your gender:F-40 fighter jet\n",
      "please provide your age:60\n",
      "welcome to the presidential election Baron\n",
      "congratulations you are eligible to vote, proceed to the Po\n"
     ]
    }
   ],
   "source": [
    "def votingsys (name,gender,age):\n",
    "    print(f'welcome to the presidential election {name}')\n",
    "          \n",
    "    if age >= 18:\n",
    "          print ('congratulations you are eligible to vote, proceed to the Po')\n",
    "    else:\n",
    "          print ('oops, you are not eligible to vote')\n",
    "votingsys(input('please provide your name:'),input('please provide your gender:'),int(input('please provide your age:')))"
   ]
  },
  {
   "cell_type": "code",
   "execution_count": 19,
   "metadata": {},
   "outputs": [
    {
     "name": "stdout",
     "output_type": "stream",
     "text": [
      "welcome to the presidential election baron\n",
      "congratulations you are eligible to vote, proceed to the Po\n"
     ]
    }
   ],
   "source": [
    "def votingsys (name,gender,age=18):\n",
    "    print(f'welcome to the presidential election {name}')\n",
    "    \n",
    "    if age >= 18:\n",
    "          print ('congratulations you are eligible to vote, proceed to the Po')\n",
    "    else:\n",
    "          print ('oops, you are not eligible to vote')\n",
    "            \n",
    "votingsys('baron', 'Attack helicopter')"
   ]
  },
  {
   "cell_type": "code",
   "execution_count": 20,
   "metadata": {},
   "outputs": [],
   "source": [
    "#Exercise 1: A man gained 25% by by selling an article for 800 write a function to find the cost price of the article\n",
    "\n",
    "#exercise 2: A hat bought at 250 was sold at a loss of 15%, what is the selling price\n",
    "\n",
    "#exercise 3: if the cost price of 5 oranges is 40 and the selling price is 55 find the percentage gain of profit"
   ]
  },
  {
   "cell_type": "code",
   "execution_count": 42,
   "metadata": {},
   "outputs": [
    {
     "name": "stdout",
     "output_type": "stream",
     "text": [
      "the cost price is 640.0\n"
     ]
    }
   ],
   "source": [
    "#exercise1\n",
    "def article():\n",
    "    sp=800\n",
    "    per=(100/125)\n",
    "    cp=sp*per\n",
    "    print(f'the cost price is {cp}')\n",
    "article()"
   ]
  },
  {
   "cell_type": "code",
   "execution_count": 43,
   "metadata": {},
   "outputs": [
    {
     "name": "stdout",
     "output_type": "stream",
     "text": [
      "the selling price is 212.5\n"
     ]
    }
   ],
   "source": [
    "#exercise2\n",
    "def hat():\n",
    "    cp=250\n",
    "    loss=(15/100)*(250/1)\n",
    "    sp=cp-loss\n",
    "    print(f'the selling price is {sp}')\n",
    "hat()"
   ]
  },
  {
   "cell_type": "code",
   "execution_count": 44,
   "metadata": {},
   "outputs": [
    {
     "name": "stdout",
     "output_type": "stream",
     "text": [
      "the gain percentage is 37.5%\n"
     ]
    }
   ],
   "source": [
    "#exercise3\n",
    "def orange():\n",
    "    sp=55\n",
    "    cp=40\n",
    "    gain=sp-cp\n",
    "    gainper=(gain/cp)*100\n",
    "    print(f'the gain percentage is {gainper}%')\n",
    "orange()"
   ]
  },
  {
   "cell_type": "code",
   "execution_count": 45,
   "metadata": {},
   "outputs": [
    {
     "name": "stdout",
     "output_type": "stream",
     "text": [
      "<class 'tuple'>\n",
      "the average point of args is 65.83333333333333\n"
     ]
    }
   ],
   "source": [
    "#variable lenght of non key argument\n",
    "def avg(*args):\n",
    "    print(type(args))\n",
    "    print(f'the average point of args is {sum(args)/len(args)}')\n",
    "avg(47,58,59,85,94,28,94,35,89,56,65,80)"
   ]
  },
  {
   "cell_type": "code",
   "execution_count": 47,
   "metadata": {},
   "outputs": [
    {
     "name": "stdout",
     "output_type": "stream",
     "text": [
      "<class 'dict'>\n",
      "first:['aron', 'Adejoh']\n",
      "Gender:Male\n",
      "Age:60\n"
     ]
    }
   ],
   "source": [
    "#key word arguements\n",
    "def details(**kwargs):\n",
    "    print(type(kwargs))\n",
    "    for key, value in kwargs.items():\n",
    "        print(f'{key}:{value}')\n",
    "details(first=['aron','Adejoh'],Gender ='Male',Age=60)"
   ]
  },
  {
   "cell_type": "code",
   "execution_count": 1,
   "metadata": {},
   "outputs": [
    {
     "name": "stdout",
     "output_type": "stream",
     "text": [
      "your bmi is 136.1111111111111\n"
     ]
    }
   ],
   "source": [
    "def bmi():\n",
    "    weight=70\n",
    "    height=6\n",
    "    bmi=(weight/height)**2\n",
    "    print(f'your bmi is {bmi}')\n",
    "bmi()"
   ]
  },
  {
   "cell_type": "code",
   "execution_count": 7,
   "metadata": {},
   "outputs": [
    {
     "ename": "SyntaxError",
     "evalue": "invalid syntax (<ipython-input-7-9c575a013ad1>, line 9)",
     "output_type": "error",
     "traceback": [
      "\u001b[1;36m  File \u001b[1;32m\"<ipython-input-7-9c575a013ad1>\"\u001b[1;36m, line \u001b[1;32m9\u001b[0m\n\u001b[1;33m    print (f'your mortgage rate is {mortgage_rate}')\u001b[0m\n\u001b[1;37m    ^\u001b[0m\n\u001b[1;31mSyntaxError\u001b[0m\u001b[1;31m:\u001b[0m invalid syntax\n"
     ]
    }
   ],
   "source": [
    "#To calculate mortgage\n",
    "from __future__ import print_function\n",
    "def mort():\n",
    "    HP = int(input('Cost of house'))    #HP Stands for House Price\n",
    "    R = float(input('Rate of mortgage'))   #R Stands for the rate of the mortgage\n",
    "    T = int(input('Duration of mortgage'))   #T stands for duration of mortgage in years\n",
    "    N = T * 12\n",
    "    mortgage_rate = HP*(R/N)*(1+(R/N)**N(T)-1\n",
    "    print (f'your mortgage rate is {mortgage_rate}')\n",
    "    print (f'your mortgage total is {mortgage_rate+HP}')\n",
    "    print ('please endeavour to repay your loan on time,  thank you')\n",
    "mort ()"
   ]
  },
  {
   "cell_type": "code",
   "execution_count": 4,
   "metadata": {},
   "outputs": [],
   "source": [
    "from __future__ import print_function"
   ]
  },
  {
   "cell_type": "code",
   "execution_count": null,
   "metadata": {},
   "outputs": [],
   "source": []
  }
 ],
 "metadata": {
  "kernelspec": {
   "display_name": "Python 3",
   "language": "python",
   "name": "python3"
  },
  "language_info": {
   "codemirror_mode": {
    "name": "ipython",
    "version": 3
   },
   "file_extension": ".py",
   "mimetype": "text/x-python",
   "name": "python",
   "nbconvert_exporter": "python",
   "pygments_lexer": "ipython3",
   "version": "3.8.5"
  }
 },
 "nbformat": 4,
 "nbformat_minor": 4
}
