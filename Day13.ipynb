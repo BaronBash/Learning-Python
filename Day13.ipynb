{
 "cells": [
  {
   "cell_type": "code",
   "execution_count": 2,
   "metadata": {},
   "outputs": [],
   "source": [
    "#Example\n",
    "class person:\n",
    "    attr1 = 'Simeon'\n",
    "    attr2 = 'Can Vote'\n",
    "    attr3 = 'Can Drive'\n",
    "obj = person()"
   ]
  },
  {
   "cell_type": "code",
   "execution_count": 4,
   "metadata": {},
   "outputs": [
    {
     "data": {
      "text/plain": [
       "'Can Vote'"
      ]
     },
     "execution_count": 4,
     "metadata": {},
     "output_type": "execute_result"
    }
   ],
   "source": [
    "obj.attr2"
   ]
  },
  {
   "cell_type": "code",
   "execution_count": 11,
   "metadata": {},
   "outputs": [],
   "source": [
    "class person:\n",
    "    def __init__(self, name, colour, height, weight):\n",
    "        self.name = name\n",
    "        self.colour = colour\n",
    "        self.height = height\n",
    "        self.weight = weight\n",
    "    def talk(self):\n",
    "        print (f'My name is {self.name}')\n",
    "    def vote(self,age):\n",
    "        if age > 17:\n",
    "            print ('You are eligible to vote')\n",
    "        else:\n",
    "            print ('OOPS you are not eligible to vote')\n",
    "person1 = person('Simeon','Fair',1.82,69)"
   ]
  },
  {
   "cell_type": "code",
   "execution_count": 10,
   "metadata": {},
   "outputs": [
    {
     "name": "stdout",
     "output_type": "stream",
     "text": [
      "My name is Simeon\n",
      "None\n",
      "You are eligible to vote\n",
      "None\n"
     ]
    }
   ],
   "source": [
    "print(person1.talk())\n",
    "print(person1.vote(40))"
   ]
  },
  {
   "cell_type": "code",
   "execution_count": 12,
   "metadata": {},
   "outputs": [],
   "source": [
    "#Using class and object write a programme to build a car game simulation with the following attribute\n",
    "###brand, model, colour, year and top speed\n",
    "#Having the following method\n",
    "###start, gear(write a condition to perform change of gear operation)\n",
    "###nitro(write a condition to engage or disengage the nitro) and stop\n",
    "#create an object to perform this function"
   ]
  },
  {
   "cell_type": "code",
   "execution_count": 65,
   "metadata": {},
   "outputs": [],
   "source": [
    "class car:\n",
    "    def __init__(self, brand, model, colour, year, speed):\n",
    "        self.brand = brand\n",
    "        self.model = model\n",
    "        self.colour = colour\n",
    "        self.year = year\n",
    "        self.speed = speed\n",
    "    def start(self):\n",
    "        print(f'{self.brand} {self.model} has started')\n",
    "    def race(self, speed):\n",
    "        if speed >1<30:\n",
    "            print (f'Car is in gear 1')\n",
    "        elif speed >30<60:\n",
    "            print (f'Car is in gear 2')\n",
    "        elif speed >60<90:\n",
    "            print (f'Car is in gear 3')\n",
    "        elif speed >90<120:\n",
    "            print (f'Car is in gear 4')\n",
    "        elif speed >120:\n",
    "            print (f'Car is in gear 5')\n",
    "    def nitrous(self,press):\n",
    "        if press == 1:\n",
    "            print (f'{self.brand} {self.model} is using Nitro')\n",
    "        else:\n",
    "            print (f'{self.brand} {self.model} is not using Nitro')\n",
    "    def stop(self):\n",
    "        print(f'{self.brand} {self.model} has stopped')\n",
    "        \n",
    "Lamborghini = car ('Lamborghini','Murcielago','Red',2018,180)"
   ]
  },
  {
   "cell_type": "code",
   "execution_count": 66,
   "metadata": {
    "scrolled": true
   },
   "outputs": [
    {
     "name": "stdout",
     "output_type": "stream",
     "text": [
      "Lamborghini Murcielago has started\n",
      "None\n",
      "Car is in gear 1\n",
      "None\n",
      "Lamborghini Murcielago is using Nitro\n",
      "None\n",
      "Lamborghini Murcielago has stopped\n",
      "None\n"
     ]
    }
   ],
   "source": [
    "print (Lamborghini.start())\n",
    "print (Lamborghini.race(121))\n",
    "print (Lamborghini.nitrous(1))\n",
    "print (Lamborghini.stop())"
   ]
  },
  {
   "cell_type": "code",
   "execution_count": 70,
   "metadata": {},
   "outputs": [],
   "source": [
    "#inheritance\n",
    "class car2(car):\n",
    "    def openroof (self,choice):\n",
    "        if choice == 1:\n",
    "            print ('roof is opened')\n",
    "        elif choice == 2:\n",
    "            print ('roof is closed')\n",
    "Ferrari = car2 ('Ferrari','Spyder','White',2017,160)"
   ]
  },
  {
   "cell_type": "code",
   "execution_count": 71,
   "metadata": {},
   "outputs": [
    {
     "name": "stdout",
     "output_type": "stream",
     "text": [
      "Ferrari Spyder has started\n",
      "None\n",
      "Car is in gear 1\n",
      "None\n",
      "Ferrari Spyder is using Nitro\n",
      "None\n",
      "Ferrari Spyder has stopped\n",
      "None\n",
      "roof is opened\n",
      "None\n"
     ]
    }
   ],
   "source": [
    "print (Ferrari.start())\n",
    "print (Ferrari.race(121))\n",
    "print (Ferrari.nitrous(1))\n",
    "print (Ferrari.stop())\n",
    "print (Ferrari.openroof(1))"
   ]
  },
  {
   "cell_type": "code",
   "execution_count": null,
   "metadata": {},
   "outputs": [],
   "source": []
  }
 ],
 "metadata": {
  "kernelspec": {
   "display_name": "Python 3",
   "language": "python",
   "name": "python3"
  },
  "language_info": {
   "codemirror_mode": {
    "name": "ipython",
    "version": 3
   },
   "file_extension": ".py",
   "mimetype": "text/x-python",
   "name": "python",
   "nbconvert_exporter": "python",
   "pygments_lexer": "ipython3",
   "version": "3.8.5"
  }
 },
 "nbformat": 4,
 "nbformat_minor": 4
}
