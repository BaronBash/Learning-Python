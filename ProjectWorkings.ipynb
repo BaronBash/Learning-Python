{
 "cells": [
  {
   "cell_type": "markdown",
   "metadata": {},
   "source": [
    "# Calculating Mortgage for a home"
   ]
  },
  {
   "cell_type": "code",
   "execution_count": 3,
   "metadata": {},
   "outputs": [
    {
     "ename": "SyntaxError",
     "evalue": "invalid syntax (<ipython-input-3-af27a7699864>, line 8)",
     "output_type": "error",
     "traceback": [
      "\u001b[1;36m  File \u001b[1;32m\"<ipython-input-3-af27a7699864>\"\u001b[1;36m, line \u001b[1;32m8\u001b[0m\n\u001b[1;33m    print (f'your mortgage rate is {mortgage_rate}')\u001b[0m\n\u001b[1;37m    ^\u001b[0m\n\u001b[1;31mSyntaxError\u001b[0m\u001b[1;31m:\u001b[0m invalid syntax\n"
     ]
    }
   ],
   "source": [
    "#To calculate mortgage\n",
    "def mort():\n",
    "    HP = int(input('Cost of house'))    #HP Stands for House Price\n",
    "    R = float(input('Rate of mortgage'))   #R Stands for the rate of the mortgage\n",
    "    T = int(input('Duration of mortgage'))   #T stands for duration of mortgage in years\n",
    "    N = T*12\n",
    "    mortgage_rate = HP*(R/N)*(1+(R/N)**N(T)-1\n",
    "    print (f'your mortgage rate is {mortgage_rate}')\n",
    "    print (f'your mortgage total is {mortgage_rate+HP}')\n",
    "    print ('please endeavour to repay your loan on time,  thank you')\n",
    "mort ()"
   ]
  },
  {
   "cell_type": "code",
   "execution_count": 1,
   "metadata": {},
   "outputs": [
    {
     "ename": "SyntaxError",
     "evalue": "invalid syntax (<ipython-input-1-62cd7193dd20>, line 8)",
     "output_type": "error",
     "traceback": [
      "\u001b[1;36m  File \u001b[1;32m\"<ipython-input-1-62cd7193dd20>\"\u001b[1;36m, line \u001b[1;32m8\u001b[0m\n\u001b[1;33m    print (f'your mortgage rate is {mortgage_rate}')\u001b[0m\n\u001b[1;37m    ^\u001b[0m\n\u001b[1;31mSyntaxError\u001b[0m\u001b[1;31m:\u001b[0m invalid syntax\n"
     ]
    }
   ],
   "source": [
    "#To calculate mortgage\n",
    "def mort():\n",
    "    HP = int(input('Cost of house'))    #HP Stands for House Price\n",
    "    R = float(input('Rate of mortgage'))   #R Stands for the rate of the mortgage\n",
    "    T = int(input('Duration of mortgage'))   #T stands for duration of mortgage in years\n",
    "    N = T * 12\n",
    "    mortgage_rate = HP*(R/N)*(1+(R/N)**N(T)-1\n",
    "    print (f'your mortgage rate is {mortgage_rate}')\n",
    "    print (f'your mortgage total is {mortgage_rate+HP}')\n",
    "    print ('please endeavour to repay your loan on time,  thank you')\n",
    "mort ()"
   ]
  },
  {
   "cell_type": "code",
   "execution_count": 3,
   "metadata": {},
   "outputs": [
    {
     "ename": "SyntaxError",
     "evalue": "invalid syntax (<ipython-input-3-af7e51b2b217>, line 7)",
     "output_type": "error",
     "traceback": [
      "\u001b[1;36m  File \u001b[1;32m\"<ipython-input-3-af7e51b2b217>\"\u001b[1;36m, line \u001b[1;32m7\u001b[0m\n\u001b[1;33m    print()\u001b[0m\n\u001b[1;37m    ^\u001b[0m\n\u001b[1;31mSyntaxError\u001b[0m\u001b[1;31m:\u001b[0m invalid syntax\n"
     ]
    }
   ],
   "source": [
    "def mortgg():\n",
    "    HP=100000\n",
    "    R=0.06\n",
    "    T=30\n",
    "    N=T*12\n",
    "    mortgage_rate = HP*(R/N)*(1+(R/N)**N(T)-1\n",
    "    print()\n",
    "mortgg()"
   ]
  },
  {
   "cell_type": "code",
   "execution_count": null,
   "metadata": {},
   "outputs": [],
   "source": []
  },
  {
   "cell_type": "code",
   "execution_count": null,
   "metadata": {},
   "outputs": [],
   "source": []
  }
 ],
 "metadata": {
  "kernelspec": {
   "display_name": "Python 3",
   "language": "python",
   "name": "python3"
  }
 },
 "nbformat": 4,
 "nbformat_minor": 4
}
