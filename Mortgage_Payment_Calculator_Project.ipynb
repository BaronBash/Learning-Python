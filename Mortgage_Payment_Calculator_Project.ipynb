{
 "cells": [
  {
   "cell_type": "markdown",
   "metadata": {},
   "source": [
    "# Mortgage Payment Calculator"
   ]
  },
  {
   "cell_type": "code",
   "execution_count": 13,
   "metadata": {},
   "outputs": [
    {
     "name": "stdout",
     "output_type": "stream",
     "text": [
      "The cost of the house $400000\n",
      "The rate of the mortgage %4\n",
      "The time period of the mortgage30\n",
      "Your monthly mortgage payment is $1909.66\n",
      "The total intrest payable on your mortgage after 360.0 months is $287478.03\n",
      "Your total payment after 360.0 months is $687478.03\n",
      "Please endeavour to repay your loan or there will be penalties, thank you\n"
     ]
    }
   ],
   "source": [
    "HP = int(input('The cost of the house $'))\n",
    "R = int(input('The rate of the mortgage %'))\n",
    "R = float(R)/100/12\n",
    "T = int(input('The time period of the mortgage'))\n",
    "T = float(T)*12\n",
    "\n",
    "#HP Stands for the cost of the house in Dollars, which is the total cost of the mortgage loan\n",
    "#R stands for the rate of intrest to be paid on the mortgage in percentage\n",
    "#T stands for thr timeline of the mortgage, being the time period in years then converted to months\n",
    "\n",
    "MortgageMonthlyRate = HP * (R*(1+R)**T)/((1+R)**T-1)\n",
    "MortgageTotalRate = (MortgageMonthlyRate * T) - HP\n",
    "TotalMortgagePayment = HP + MortgageTotalRate\n",
    "\n",
    "#MortgageMonthlyRate is the amount payables every month\n",
    "#MortgageTotalRate is the total intrest payable after T months\n",
    "#TotalMortgagePayment is the total loan amount payable after T months including the initial payment and intrest\n",
    "\n",
    "print (f'Your monthly mortgage payment is ${MortgageMonthlyRate:.2f}')\n",
    "print (f'The total intrest payable on your mortgage after {T} months is ${MortgageTotalRate:.2f}')\n",
    "print (f'Your total payment after {T} months is ${TotalMortgagePayment:.2f}')\n",
    "print ('Please endeavour to repay your loan or there will be penalties, thank you')"
   ]
  },
  {
   "cell_type": "code",
   "execution_count": null,
   "metadata": {},
   "outputs": [],
   "source": []
  }
 ],
 "metadata": {
  "kernelspec": {
   "display_name": "Python 3",
   "language": "python",
   "name": "python3"
  },
  "language_info": {
   "codemirror_mode": {
    "name": "ipython",
    "version": 3
   },
   "file_extension": ".py",
   "mimetype": "text/x-python",
   "name": "python",
   "nbconvert_exporter": "python",
   "pygments_lexer": "ipython3",
   "version": "3.8.5"
  }
 },
 "nbformat": 4,
 "nbformat_minor": 4
}
