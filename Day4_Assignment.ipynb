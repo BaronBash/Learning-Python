{
 "cells": [
  {
   "cell_type": "code",
   "execution_count": 7,
   "metadata": {},
   "outputs": [
    {
     "ename": "SyntaxError",
     "evalue": "invalid syntax (<ipython-input-7-2ecac0f4f699>, line 6)",
     "output_type": "error",
     "traceback": [
      "\u001b[1;36m  File \u001b[1;32m\"<ipython-input-7-2ecac0f4f699>\"\u001b[1;36m, line \u001b[1;32m6\u001b[0m\n\u001b[1;33m    perc=(5/100)*Salary\u001b[0m\n\u001b[1;37m    ^\u001b[0m\n\u001b[1;31mSyntaxError\u001b[0m\u001b[1;31m:\u001b[0m invalid syntax\n"
     ]
    }
   ],
   "source": [
    "#A company decided to give bonus of 5% to employee if his/her year of service is more than 5 years\n",
    "Years_of_service=int(input('number of years in service?'))\n",
    "if Years_of_service > 4:\n",
    "    print ('you get a salary raise')\n",
    "    Salary=int(input('your current salary?')\n",
    "    perc=(5/100)*Salary\n",
    "    new_salary=Salary+perc\n",
    "               print ('your new salary is {new_salary}')   \n",
    "else:\n",
    "    print('you dont get a salary raise')"
   ]
  },
  {
   "cell_type": "code",
   "execution_count": 41,
   "metadata": {},
   "outputs": [
    {
     "name": "stdout",
     "output_type": "stream",
     "text": [
      "number of years in service?90\n",
      "you get a salary raise\n",
      "your current salary?9000\n",
      "your new salary is 9450.0\n"
     ]
    }
   ],
   "source": [
    "#A company decided to give bonus of 5% to employee if his/her year of service is more than 5 years\n",
    "Years_of_service=int(input('number of years in service?'))\n",
    "if Years_of_service > 4:\n",
    "    print ('you get a salary raise')\n",
    "else:\n",
    "    print('you dont get a salary raise')\n",
    "\n",
    "Salary=int(input('your current salary?'))\n",
    "percent=(5/100)*Salary\n",
    "new_salary=Salary+percent\n",
    "print (f'your new salary is {new_salary}')"
   ]
  },
  {
   "cell_type": "code",
   "execution_count": 31,
   "metadata": {},
   "outputs": [
    {
     "name": "stdout",
     "output_type": "stream",
     "text": [
      "Any Number17\n",
      "Any Number18\n",
      "Num2 is greater than Num1\n"
     ]
    }
   ],
   "source": [
    "Num1=int(input('Any Number'))\n",
    "Num2=int(input('Any Number'))\n",
    "if Num1>Num2:\n",
    "    print('Num1 is greater than Num2')\n",
    "else:\n",
    "    print('Num2 is greater than Num1')"
   ]
  },
  {
   "cell_type": "code",
   "execution_count": 30,
   "metadata": {},
   "outputs": [
    {
     "name": "stdout",
     "output_type": "stream",
     "text": [
      "How old are you?10\n",
      "How old are you?11\n",
      "How old are you?12\n",
      "Age3 is older than Age2 and Age1\n"
     ]
    }
   ],
   "source": [
    "Age1=int(input('How old are you?'))\n",
    "Age2=int(input('How old are you?'))\n",
    "Age3=int(input('How old are you?'))\n",
    "\n",
    "if Age1>Age2 and Age3:\n",
    "    print ('Age1 is older than Age2 and Age3')\n",
    "elif Age2>Age3 and Age1:\n",
    "    print ('Age2 is older than Age3 and Age1')\n",
    "elif Age3>Age2 and Age1:\n",
    "    print ('Age3 is older than Age2 and Age1')"
   ]
  },
  {
   "cell_type": "code",
   "execution_count": 39,
   "metadata": {},
   "outputs": [
    {
     "name": "stdout",
     "output_type": "stream",
     "text": [
      "Number of classes attended60\n",
      "You are not eligible to write the exams\n"
     ]
    }
   ],
   "source": [
    "#A student will not be allowed to sit in exam if his/her attendence is less than 75%.\n",
    "Classes_held=100\n",
    "Classes_attended=int(input('Number of classes attended'))\n",
    "Percentage_of_class_attended=(Classes_attended/Classes_held)*100\n",
    "if Percentage_of_class_attended > 75:\n",
    "    print ('You are eligible to write the exams')\n",
    "else:\n",
    "    print ('You are not eligible to write the exams')"
   ]
  },
  {
   "cell_type": "code",
   "execution_count": null,
   "metadata": {},
   "outputs": [],
   "source": []
  }
 ],
 "metadata": {
  "kernelspec": {
   "display_name": "Python 3",
   "language": "python",
   "name": "python3"
  },
  "language_info": {
   "codemirror_mode": {
    "name": "ipython",
    "version": 3
   },
   "file_extension": ".py",
   "mimetype": "text/x-python",
   "name": "python",
   "nbconvert_exporter": "python",
   "pygments_lexer": "ipython3",
   "version": "3.8.5"
  }
 },
 "nbformat": 4,
 "nbformat_minor": 4
}
