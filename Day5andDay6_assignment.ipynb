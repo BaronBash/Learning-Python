{
 "cells": [
  {
   "cell_type": "code",
   "execution_count": 3,
   "metadata": {},
   "outputs": [
    {
     "name": "stdout",
     "output_type": "stream",
     "text": [
      "you are at normal weight\n"
     ]
    }
   ],
   "source": [
    "#Exercise one on body mass index (bmi)\n",
    "#Weight in kg and height in m**2\n",
    "def bmi():\n",
    "    weight=70\n",
    "    height=1.828\n",
    "    bmi=(weight/height)**2\n",
    "    if bmi <=18:\n",
    "        print('you are underweight')\n",
    "    elif bmi >=18.5<=24.9:\n",
    "        print('you are at normal weight')\n",
    "    elif bmi >=25<29.9:\n",
    "        print('you are overweight')\n",
    "    elif bmi >30:\n",
    "        print('you are overweight')\n",
    "bmi()"
   ]
  },
  {
   "cell_type": "code",
   "execution_count": 6,
   "metadata": {},
   "outputs": [
    {
     "name": "stdout",
     "output_type": "stream",
     "text": [
      "your weight in kilograms:70\n",
      "your height in meter square:1.828\n",
      "you are at normal weight\n"
     ]
    }
   ],
   "source": [
    "#Exercise one on body mass index (bmi)\n",
    "#Weight in kg and height in m**2\n",
    "def bmi(weight,height):\n",
    "    bmi=(weight/height)**2\n",
    "    if bmi <=18:\n",
    "        print('you are underweight')\n",
    "    elif bmi >=18.5<=24.9:\n",
    "        print('you are at normal weight')\n",
    "    elif bmi >=25<29.9:\n",
    "        print('you are overweight')\n",
    "    elif bmi >30:\n",
    "        print('you are overweight')\n",
    "bmi (int(input('your weight in kilograms:')),float(input('your height in meter square:')))"
   ]
  },
  {
   "cell_type": "code",
   "execution_count": 2,
   "metadata": {},
   "outputs": [
    {
     "name": "stdout",
     "output_type": "stream",
     "text": [
      "enter year:2020\n",
      "2020 is a Leap Year\n"
     ]
    }
   ],
   "source": [
    "#A program that calculates leap years\n",
    "year=int(input('enter year:'))\n",
    "if year % 4 == 0 and year % 100 != 0:\n",
    "    print(year, \"is a Leap Year\")\n",
    "elif year % 100 ==0:\n",
    "    print(year, \"is not a Leap Year\")\n",
    "elif year % 400 ==0:\n",
    "    print(year, \"is a Leap Year\")\n",
    "else:\n",
    "    print(year, \"is not a Leap Year\")"
   ]
  },
  {
   "cell_type": "code",
   "execution_count": null,
   "metadata": {},
   "outputs": [],
   "source": [
    "#"
   ]
  }
 ],
 "metadata": {
  "kernelspec": {
   "display_name": "Python 3",
   "language": "python",
   "name": "python3"
  },
  "language_info": {
   "codemirror_mode": {
    "name": "ipython",
    "version": 3
   },
   "file_extension": ".py",
   "mimetype": "text/x-python",
   "name": "python",
   "nbconvert_exporter": "python",
   "pygments_lexer": "ipython3",
   "version": "3.8.5"
  }
 },
 "nbformat": 4,
 "nbformat_minor": 4
}
