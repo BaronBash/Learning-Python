{
 "cells": [
  {
   "cell_type": "code",
   "execution_count": 1,
   "metadata": {},
   "outputs": [
    {
     "name": "stdout",
     "output_type": "stream",
     "text": [
      "pppp\n",
      "yyyy\n",
      "tttt\n",
      "hhhh\n",
      "oooo\n",
      "nnnn\n"
     ]
    }
   ],
   "source": [
    "word = 'python'\n",
    "for char in word:\n",
    "    print(char*4)"
   ]
  },
  {
   "cell_type": "code",
   "execution_count": 7,
   "metadata": {},
   "outputs": [
    {
     "name": "stdout",
     "output_type": "stream",
     "text": [
      "pppp\n",
      "yyyy\n"
     ]
    }
   ],
   "source": [
    "word = 'python'\n",
    "for char in word:\n",
    "    if char == 'p':\n",
    "        print(char * 4)\n",
    "    elif char == 'y':\n",
    "        print(char * 4)"
   ]
  },
  {
   "cell_type": "code",
   "execution_count": 9,
   "metadata": {},
   "outputs": [
    {
     "name": "stdout",
     "output_type": "stream",
     "text": [
      "the sqrt of 25 is 5.0\n",
      "the sqrt of 89 is 9.433981132056603\n",
      "the sqrt of 74 is 8.602325267042627\n",
      "the sqrt of 58 is 7.615773105863909\n",
      "the sqrt of 20 is 4.47213595499958\n",
      "the sqrt of 35 is 5.916079783099616\n",
      "the sqrt of 40 is 6.324555320336759\n"
     ]
    }
   ],
   "source": [
    "numbers = [25,89,74,58,20,35,40]\n",
    "import math\n",
    "for num in numbers:\n",
    "    print(f'the sqrt of {num} is {math.sqrt(num)}')"
   ]
  },
  {
   "cell_type": "code",
   "execution_count": 14,
   "metadata": {},
   "outputs": [
    {
     "name": "stdout",
     "output_type": "stream",
     "text": [
      "james : 80\n",
      "Mary : 90\n",
      "Janet : 70\n",
      "Seyi : 58\n",
      "Winnie : 85\n"
     ]
    }
   ],
   "source": [
    "score = {\n",
    "    'james':80,\n",
    "    'Mary':90,\n",
    "    'Janet':70,\n",
    "    'Seyi':58,\n",
    "    'Winnie':85\n",
    "}\n",
    "for key, value in score.items():\n",
    "    print(key, ':', value)"
   ]
  },
  {
   "cell_type": "code",
   "execution_count": 18,
   "metadata": {},
   "outputs": [
    {
     "name": "stdout",
     "output_type": "stream",
     "text": [
      "james : 80\n",
      "Mary : 90\n"
     ]
    }
   ],
   "source": [
    "score = {\n",
    "    'james':80,\n",
    "    'Mary':90,\n",
    "    'Jane':70,\n",
    "    'Seyi':58,\n",
    "    'Winnie':85\n",
    "}\n",
    "for key in score:\n",
    "    if key == 'Jane':\n",
    "        break\n",
    "    print(key,':',score[key])"
   ]
  },
  {
   "cell_type": "code",
   "execution_count": 19,
   "metadata": {},
   "outputs": [
    {
     "name": "stdout",
     "output_type": "stream",
     "text": [
      "15\n",
      "16\n",
      "17\n",
      "18\n",
      "19\n",
      "20\n"
     ]
    }
   ],
   "source": [
    "for i in range(15,21):\n",
    "    print (i)"
   ]
  },
  {
   "cell_type": "code",
   "execution_count": 21,
   "metadata": {},
   "outputs": [
    {
     "name": "stdout",
     "output_type": "stream",
     "text": [
      "please provide a number25\n",
      "25*1=25\n",
      "25*2=50\n",
      "25*3=75\n",
      "25*4=100\n",
      "25*5=125\n",
      "25*6=150\n",
      "25*7=175\n",
      "25*8=200\n",
      "25*9=225\n",
      "25*10=250\n",
      "25*11=275\n",
      "25*12=300\n"
     ]
    }
   ],
   "source": [
    "num = int(input('please provide a number'))\n",
    "for i in range(1,13):\n",
    "    print(f'{num}*{i}={num*i}')"
   ]
  },
  {
   "cell_type": "code",
   "execution_count": null,
   "metadata": {},
   "outputs": [],
   "source": [
    "While Loop"
   ]
  },
  {
   "cell_type": "code",
   "execution_count": 22,
   "metadata": {},
   "outputs": [],
   "source": [
    "import random\n",
    "numbers = []\n",
    "counter = 1\n",
    "while counter <=100:\n",
    "    num = random.randint(50,75)\n",
    "    numbers.append(num)\n",
    "    counter=counter+1"
   ]
  },
  {
   "cell_type": "code",
   "execution_count": 23,
   "metadata": {},
   "outputs": [
    {
     "name": "stdout",
     "output_type": "stream",
     "text": [
      "[70, 61, 71, 67, 69, 71, 64, 74, 60, 64, 71, 64, 66, 60, 65, 54, 66, 69, 59, 68, 56, 58, 69, 52, 61, 74, 72, 52, 57, 61, 65, 68, 60, 63, 75, 75, 55, 69, 53, 51, 53, 53, 61, 57, 60, 54, 58, 54, 70, 57, 62, 64, 57, 69, 69, 54, 57, 64, 61, 63, 74, 69, 59, 72, 56, 62, 63, 71, 72, 62, 63, 51, 57, 56, 65, 51, 58, 75, 56, 51, 51, 59, 74, 57, 56, 57, 51, 64, 57, 56, 62, 75, 54, 55, 50, 75, 73, 53, 57, 75]\n"
     ]
    }
   ],
   "source": [
    "print(numbers)"
   ]
  },
  {
   "cell_type": "code",
   "execution_count": 25,
   "metadata": {},
   "outputs": [
    {
     "name": "stdout",
     "output_type": "stream",
     "text": [
      "Player1:6\n",
      "Player2:6\n",
      "it is a draw\n",
      "Player1:1\n",
      "Player2:3\n",
      "player 2 wins\n",
      "Player1:1\n",
      "Player2:6\n",
      "player 2 wins\n",
      "Player1:3\n",
      "Player2:4\n",
      "player 2 wins\n",
      "Player1:2\n",
      "Player2:6\n",
      "player 2 wins\n",
      "Player1:6\n",
      "Player2:4\n",
      "player 1 wins\n",
      "Player1:2\n",
      "Player2:4\n",
      "player 2 wins\n",
      "Player1:2\n",
      "Player2:3\n",
      "player 2 wins\n",
      "Player1:4\n",
      "Player2:3\n",
      "player 1 wins\n",
      "Player1:5\n",
      "Player2:4\n",
      "player 1 wins\n",
      "the total point for player 1 is 6\n",
      "the total point for player 2 is 12\n",
      "player 2 is the overall winner\n"
     ]
    }
   ],
   "source": [
    "'''\n",
    "a dice game that will be simulated 10 times for two players\n",
    "for every iteration of the game\n",
    "if player1 wins 2 points will be given\n",
    "if player2 wins 2 points will be given\n",
    "else if it is a draw no point will be given\n",
    "'''\n",
    "\n",
    "import random \n",
    "\n",
    "#declaring a variable to the point for player1 and player2\n",
    "PLAYER_1_SCORE=0\n",
    "PLAYER_2_SCORE=0\n",
    "\n",
    "for i in range(1,11):\n",
    "    #for generating dice for the player1 and player2\n",
    "    PLAYER1 = random.randint(1,6)\n",
    "    PLAYER2 = random.randint(1,6)\n",
    "    if PLAYER1>PLAYER2:\n",
    "        print(f'Player1:{PLAYER1}')\n",
    "        print(f'Player2:{PLAYER2}')\n",
    "        print(f'player 1 wins')\n",
    "        PLAYER_1_SCORE=PLAYER_1_SCORE +2\n",
    "    elif PLAYER2>PLAYER1:\n",
    "        print(f'Player1:{PLAYER1}')\n",
    "        print(f'Player2:{PLAYER2}')\n",
    "        print(f'player 2 wins')\n",
    "        PLAYER_2_SCORE=PLAYER_2_SCORE +2\n",
    "    else:\n",
    "        print(f'Player1:{PLAYER1}')\n",
    "        print(f'Player2:{PLAYER2}')\n",
    "        print('it is a draw')\n",
    "        \n",
    "print(f'the total point for player 1 is {PLAYER_1_SCORE}')\n",
    "print(f'the total point for player 2 is {PLAYER_2_SCORE}')\n",
    "if PLAYER_1_SCORE>PLAYER_2_SCORE:\n",
    "    print('player 1 is the overall winner')\n",
    "elif PLAYER_2_SCORE>PLAYER_1_SCORE:\n",
    "    print('player 2 is the overall winner')\n",
    "else:\n",
    "    print('it is a draw')"
   ]
  },
  {
   "cell_type": "code",
   "execution_count": null,
   "metadata": {},
   "outputs": [],
   "source": []
  }
 ],
 "metadata": {
  "kernelspec": {
   "display_name": "Python 3",
   "language": "python",
   "name": "python3"
  },
  "language_info": {
   "codemirror_mode": {
    "name": "ipython",
    "version": 3
   },
   "file_extension": ".py",
   "mimetype": "text/x-python",
   "name": "python",
   "nbconvert_exporter": "python",
   "pygments_lexer": "ipython3",
   "version": "3.8.5"
  }
 },
 "nbformat": 4,
 "nbformat_minor": 4
}
