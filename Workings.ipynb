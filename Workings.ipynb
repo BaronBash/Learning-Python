{
 "cells": [
  {
   "cell_type": "code",
   "execution_count": 10,
   "metadata": {},
   "outputs": [
    {
     "name": "stdout",
     "output_type": "stream",
     "text": [
      "Cost of house10\n",
      "Rate of mortgage5.5\n",
      "Duration of mortgage5\n",
      "110.0\n"
     ]
    }
   ],
   "source": [
    "#To calculate mortgage\n",
    "HP = int(input('Cost of house'))    #HP Stands for House Price\n",
    "R = float(input('Rate of mortgage'))   #R Stands for the rate of the mortgage\n",
    "T = int(input('Duration of mortgage'))   #T stands for duration of mortgage in years\n",
    "N = T*12\n",
    "print (HP*R-T+N)"
   ]
  },
  {
   "cell_type": "code",
   "execution_count": 9,
   "metadata": {},
   "outputs": [
    {
     "name": "stdout",
     "output_type": "stream",
     "text": [
      "Write a number10\n",
      "Write a number8\n",
      "2.0\n"
     ]
    }
   ],
   "source": [
    "x = int(input('Write a number'))\n",
    "y = float(input('Write a number'))\n",
    "print (x-y)"
   ]
  },
  {
   "cell_type": "code",
   "execution_count": null,
   "metadata": {},
   "outputs": [],
   "source": [
    "# User enters the year\n",
    "year = int(input(\"Enter Year: \"))\n",
    "if year % 4 == 0 and year % 100 != 0:\n",
    "    print(year, \"is a Leap Year\")\n",
    "elif year % 100 == 0:\n",
    "    print(year, \"is not a Leap Year\")\n",
    "elif year % 400 ==0:\n",
    "    print(year, \"is a Leap Year\")\n",
    "else:\n",
    "    print(year, \"is not a Leap Year\")"
   ]
  }
 ],
 "metadata": {
  "kernelspec": {
   "display_name": "Python 3",
   "language": "python",
   "name": "python3"
  },
  "language_info": {
   "codemirror_mode": {
    "name": "ipython",
    "version": 3
   },
   "file_extension": ".py",
   "mimetype": "text/x-python",
   "name": "python",
   "nbconvert_exporter": "python",
   "pygments_lexer": "ipython3",
   "version": "3.8.5"
  }
 },
 "nbformat": 4,
 "nbformat_minor": 4
}
