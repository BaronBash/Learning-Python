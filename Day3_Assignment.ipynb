{
 "cells": [
  {
   "cell_type": "markdown",
   "metadata": {},
   "source": [
    "# Assignment day3"
   ]
  },
  {
   "cell_type": "code",
   "execution_count": 5,
   "metadata": {},
   "outputs": [
    {
     "name": "stdout",
     "output_type": "stream",
     "text": [
      "(55, 57, 47, 55, 55, 46, 50, 57, 53, 55, 50, 58, 51, 51, 49, 45, 55, 48, 45, 53, 46)\n"
     ]
    }
   ],
   "source": [
    "#reversing tuple\n",
    "x =46, 53, 45, 48, 55, 45, 49, 51, 51, 58, 50, 55, 53, 57, 50, 46, 55, 55, 47, 57, 55\n",
    "ass = tuple(reversed(x))\n",
    "print (ass)"
   ]
  },
  {
   "cell_type": "code",
   "execution_count": 6,
   "metadata": {},
   "outputs": [
    {
     "data": {
      "text/plain": [
       "True"
      ]
     },
     "execution_count": 6,
     "metadata": {},
     "output_type": "execute_result"
    }
   ],
   "source": [
    "x =46, 53, 45, 48, 55, 45, 49, 51, 51, 58, 50, 55, 53, 57, 50, 46, 55, 55, 47, 57, 55\n",
    "58 in x"
   ]
  },
  {
   "cell_type": "code",
   "execution_count": 55,
   "metadata": {},
   "outputs": [
    {
     "data": {
      "text/plain": [
       "5"
      ]
     },
     "execution_count": 55,
     "metadata": {},
     "output_type": "execute_result"
    }
   ],
   "source": [
    "x.count(55)"
   ]
  },
  {
   "cell_type": "code",
   "execution_count": 12,
   "metadata": {},
   "outputs": [
    {
     "data": {
      "text/plain": [
       "False"
      ]
     },
     "execution_count": 12,
     "metadata": {},
     "output_type": "execute_result"
    }
   ],
   "source": [
    "x =46, 53, 45, 48, 55, 45, 49, 51, 51, 58, 50, 55, 53, 57, 50, 46, 55, 55, 47, 57, 55\n",
    "57 in x\n",
    "59 in x"
   ]
  },
  {
   "cell_type": "code",
   "execution_count": 22,
   "metadata": {},
   "outputs": [
    {
     "name": "stdout",
     "output_type": "stream",
     "text": [
      "[55, 57, 47, 55, 55, 46, 50, 57, 53, 55, 50, 58, 51, 51, 49, 45, 55, 48, 45, 53, 46]\n"
     ]
    }
   ],
   "source": [
    "#reversing list\n",
    "x= [46, 53, 45, 48, 55, 45, 49, 51, 51, 58, 50, 55, 53, 57, 50, 46, 55, 55, 47, 57, 55]\n",
    "x.reverse()\n",
    "print (x)"
   ]
  },
  {
   "cell_type": "code",
   "execution_count": 36,
   "metadata": {},
   "outputs": [
    {
     "data": {
      "text/plain": [
       "True"
      ]
     },
     "execution_count": 36,
     "metadata": {},
     "output_type": "execute_result"
    }
   ],
   "source": [
    "58 in x"
   ]
  },
  {
   "cell_type": "code",
   "execution_count": 37,
   "metadata": {},
   "outputs": [
    {
     "data": {
      "text/plain": [
       "2"
      ]
     },
     "execution_count": 37,
     "metadata": {},
     "output_type": "execute_result"
    }
   ],
   "source": [
    "x= [46, 53, 45, 48, 55, 45, 49, 51, 51, 58, 50, 55, 53, 57, 50, 46, 55, 55, 47, 57, 55]\n",
    "x.count(51)"
   ]
  },
  {
   "cell_type": "code",
   "execution_count": 41,
   "metadata": {},
   "outputs": [
    {
     "name": "stdout",
     "output_type": "stream",
     "text": [
      "[46, 53, 45, 48, 55, 45, 49, 69, 51, 51, 58, 50, 55, 53, 57, 50, 46, 55, 55, 47, 57, 55]\n"
     ]
    }
   ],
   "source": [
    "x= [46, 53, 45, 48, 55, 45, 49, 51, 51, 58, 50, 55, 53, 57, 50, 46, 55, 55, 47, 57, 55]\n",
    "x.insert(7,69)\n",
    "print(x)"
   ]
  },
  {
   "cell_type": "code",
   "execution_count": 68,
   "metadata": {},
   "outputs": [
    {
     "name": "stdout",
     "output_type": "stream",
     "text": [
      "[46, 53, 45, 48, 55, 45, 49, 51, 51, 58, 50, 55, 53, 57, 50, 46, 55, 55, 47, 57, 55, 89, 85, 36, 95, 45, 78]\n"
     ]
    }
   ],
   "source": [
    "x= [46, 53, 45, 48, 55, 45, 49, 51, 51, 58, 50, 55, 53, 57, 50, 46, 55, 55, 47, 57, 55]\n",
    "y=(89,85,36,95,45,78)\n",
    "x.extend(y)\n",
    "print(x)"
   ]
  },
  {
   "cell_type": "code",
   "execution_count": 65,
   "metadata": {},
   "outputs": [
    {
     "data": {
      "text/plain": [
       "{'Location': 'London',\n",
       " 'ManagersName': 'Tuchel',\n",
       " 'ClubCaptain': 'Thiago',\n",
       " 'NetWorth': 'SixBillion',\n",
       " 'ClubFormation': '1985'}"
      ]
     },
     "execution_count": 65,
     "metadata": {},
     "output_type": "execute_result"
    }
   ],
   "source": [
    "#Dictionary\n",
    "d={}\n",
    "Tottenham={\"Location\":\"London\",\"ManagersName\":\"Conte\",\"ClubCaptain\":\"Lloris\",\"NetWorth\":\"TenBillion\",\"ClubFormation\":\"1887\"}\n",
    "Chelsea={\"Location\":\"London\",\"ManagersName\":\"Tuchel\",\"ClubCaptain\":\"Thiago\",\"NetWorth\":\"SixBillion\",\"ClubFormation\":\"1985\"}\n",
    "Arsenal={\"Location\":\"London\",\"ManagersName\":\"Mikel\",\"ClubCaptain\":\"Xhaka\",\"NetWorth\":\"TwoBillion\",\"ClubFormation\":\"1787\"}\n",
    "United={\"Location\":\"Manchester\",\"ManagersName\":\"Rangnick\",\"ClubCaptain\":\"Maguire\",\"NetWorth\":\"FifteenBillion\",\"ClubFormation\":\"1787\"}\n",
    "City={\"Location\":\"Manchester\",\"ManagersName\":\"Guardiola\",\"ClubCaptain\":\"Rodrigo\",\"NetWorth\":\"SeventeenBillion\",\"ClubFormation\":\"2000\"}\n",
    "Liverpool={\"Location\":\"Liverpool\",\"ManagersName\":\"Klopp\",\"ClubCaptain\":\"Milner\",\"NetWorth\":\"TenBillion\",\"ClubFormation\":\"1881\"}\n",
    "Chelsea"
   ]
  },
  {
   "cell_type": "code",
   "execution_count": null,
   "metadata": {},
   "outputs": [],
   "source": []
  }
 ],
 "metadata": {
  "kernelspec": {
   "display_name": "Python 3",
   "language": "python",
   "name": "python3"
  },
  "language_info": {
   "codemirror_mode": {
    "name": "ipython",
    "version": 3
   },
   "file_extension": ".py",
   "mimetype": "text/x-python",
   "name": "python",
   "nbconvert_exporter": "python",
   "pygments_lexer": "ipython3",
   "version": "3.8.5"
  }
 },
 "nbformat": 4,
 "nbformat_minor": 4
}
