{
 "cells": [
  {
   "cell_type": "markdown",
   "metadata": {},
   "source": [
    "# Anonymous function"
   ]
  },
  {
   "cell_type": "code",
   "execution_count": 22,
   "metadata": {
    "scrolled": true
   },
   "outputs": [
    {
     "data": {
      "text/plain": [
       "10000000000"
      ]
     },
     "execution_count": 22,
     "metadata": {},
     "output_type": "execute_result"
    }
   ],
   "source": [
    "(lambda x: x**x)(10)"
   ]
  },
  {
   "cell_type": "code",
   "execution_count": 2,
   "metadata": {
    "scrolled": true
   },
   "outputs": [
    {
     "data": {
      "text/plain": [
       "'num1 is oldest'"
      ]
     },
     "execution_count": 2,
     "metadata": {},
     "output_type": "execute_result"
    }
   ],
   "source": [
    "(lambda num1,num2: 'num1 is oldest' if num1>num2 else 'num2 is oldest')(25,10)"
   ]
  },
  {
   "cell_type": "code",
   "execution_count": 20,
   "metadata": {
    "scrolled": true
   },
   "outputs": [
    {
     "name": "stdout",
     "output_type": "stream",
     "text": [
      "Please enter your nameSheldon\n"
     ]
    },
    {
     "data": {
      "text/plain": [
       "'Sheldon starts with uppercase S'"
      ]
     },
     "execution_count": 20,
     "metadata": {},
     "output_type": "execute_result"
    }
   ],
   "source": [
    "#Exercise1: write a lambda function to check if a given name starts with upper case S\n",
    "(lambda name: f'{name} starts with uppercase S' if name.startswith('S') else f'{name} does not start with uppercase S')(input('Please enter your name'))"
   ]
  },
  {
   "cell_type": "code",
   "execution_count": 23,
   "metadata": {},
   "outputs": [
    {
     "name": "stdout",
     "output_type": "stream",
     "text": [
      "[48, 49, 56, 45, 47, 59, 58, 46, 49, 53, 46, 55, 52, 57, 53, 51, 56, 58, 55, 56, 60, 50, 53, 51, 53, 47, 54, 56, 49, 55, 57, 50, 60, 45, 59, 55, 49, 56, 54, 49, 54, 46, 53, 58, 56, 53, 46, 57, 60, 49]\n"
     ]
    }
   ],
   "source": [
    "import random\n",
    "numbers=[]\n",
    "counter=1\n",
    "while counter <=50:\n",
    "    num=random.randint(45,60)\n",
    "    numbers.append(num)\n",
    "    counter +=1\n",
    "print (numbers)"
   ]
  },
  {
   "cell_type": "code",
   "execution_count": 25,
   "metadata": {},
   "outputs": [
    {
     "name": "stdout",
     "output_type": "stream",
     "text": [
      "[6.928203230275509, 7.0, 7.483314773547883, 6.708203932499369, 6.855654600401044, 7.681145747868608, 7.615773105863909, 6.782329983125268, 7.0, 7.280109889280518, 6.782329983125268, 7.416198487095663, 7.211102550927978, 7.54983443527075, 7.280109889280518, 7.14142842854285, 7.483314773547883, 7.615773105863909, 7.416198487095663, 7.483314773547883, 7.745966692414834, 7.0710678118654755, 7.280109889280518, 7.14142842854285, 7.280109889280518, 6.855654600401044, 7.3484692283495345, 7.483314773547883, 7.0, 7.416198487095663, 7.54983443527075, 7.0710678118654755, 7.745966692414834, 6.708203932499369, 7.681145747868608, 7.416198487095663, 7.0, 7.483314773547883, 7.3484692283495345, 7.0, 7.3484692283495345, 6.782329983125268, 7.280109889280518, 7.615773105863909, 7.483314773547883, 7.280109889280518, 6.782329983125268, 7.54983443527075, 7.745966692414834, 7.0]\n"
     ]
    }
   ],
   "source": [
    "import math\n",
    "sqrtnum=list(map(lambda x: math.sqrt(x), numbers))\n",
    "print(sqrtnum)"
   ]
  },
  {
   "cell_type": "code",
   "execution_count": 27,
   "metadata": {},
   "outputs": [
    {
     "name": "stdout",
     "output_type": "stream",
     "text": [
      "[48, 49, 56, 47, 59, 58, 46, 49, 53, 46, 55, 52, 57, 53, 51, 56, 58, 55, 56, 60, 50, 53, 51, 53, 47, 54, 56, 49, 55, 57, 50, 60, 59, 55, 49, 56, 54, 49, 54, 46, 53, 58, 56, 53, 46, 57, 60, 49]\n"
     ]
    }
   ],
   "source": [
    "sqrtnum2=list(filter(lambda x:x>45, numbers))\n",
    "print (sqrtnum2)"
   ]
  },
  {
   "cell_type": "code",
   "execution_count": 28,
   "metadata": {},
   "outputs": [
    {
     "name": "stdout",
     "output_type": "stream",
     "text": [
      "[76, 72, 63, 58, 65, 61, 80, 63, 59, 65, 62, 69, 63, 63, 56, 61, 77, 55, 64, 65, 57, 69, 74, 56, 63, 58, 77, 73, 61, 59, 70, 57, 75, 80, 68, 77, 71, 60, 56, 78, 60, 67, 68, 58, 60, 71, 70, 62, 74, 77, 55, 75, 56, 74, 75, 63, 59, 79, 80, 59, 66, 68, 61, 61, 58, 67, 73, 71, 68, 70, 68, 66, 80, 70, 71, 75, 79, 63, 78, 73, 79, 58, 69, 66, 68, 79, 63, 76, 68, 64, 67, 67, 65, 74, 72, 79, 62, 57, 73, 79]\n"
     ]
    }
   ],
   "source": [
    "#exercise2: generate 100 numbers between 55 and 80 modify and find their sin filter this numbers by selecting the even and odd number\n",
    "import random\n",
    "numbers=[]\n",
    "counter=1\n",
    "while counter <=100:\n",
    "    num=random.randint(55,80)\n",
    "    numbers.append(num)\n",
    "    counter +=1\n",
    "print (numbers)"
   ]
  },
  {
   "cell_type": "code",
   "execution_count": 31,
   "metadata": {},
   "outputs": [
    {
     "name": "stdout",
     "output_type": "stream",
     "text": [
      "[0.5661076368981803, 0.25382336276203626, 0.16735570030280691, 0.9928726480845371, 0.8268286794901034, -0.9661177700083929, -0.9938886539233752, 0.16735570030280691, 0.6367380071391379, 0.8268286794901034, -0.7391806966492228, -0.11478481378318722, 0.16735570030280691, 0.16735570030280691, -0.5215510020869119, -0.9661177700083929, 0.9995201585807313, -0.9997551733586199, 0.9200260381967907, 0.8268286794901034, 0.43616475524782494, -0.11478481378318722, -0.9851462604682474, -0.5215510020869119, 0.16735570030280691, 0.9928726480845371, 0.9995201585807313, -0.6767719568873076, -0.9661177700083929, 0.6367380071391379, 0.7738906815578891, 0.43616475524782494, -0.38778163540943045, -0.9938886539233752, -0.8979276806892913, 0.9995201585807313, 0.9510546532543747, -0.3048106211022167, -0.5215510020869119, 0.5139784559875352, -0.3048106211022167, -0.8555199789753223, -0.8979276806892913, 0.9928726480845371, -0.3048106211022167, 0.9510546532543747, 0.7738906815578891, -0.7391806966492228, -0.9851462604682474, 0.9995201585807313, -0.9997551733586199, -0.38778163540943045, -0.5215510020869119, -0.9851462604682474, -0.38778163540943045, 0.16735570030280691, 0.6367380071391379, -0.4441126687075084, -0.9938886539233752, 0.6367380071391379, -0.026551154023966794, -0.8979276806892913, -0.9661177700083929, -0.9661177700083929, 0.9928726480845371, -0.8555199789753223, -0.6767719568873076, 0.9510546532543747, -0.8979276806892913, 0.7738906815578891, -0.8979276806892913, -0.026551154023966794, -0.9938886539233752, 0.7738906815578891, 0.9510546532543747, -0.38778163540943045, -0.4441126687075084, 0.16735570030280691, 0.5139784559875352, -0.6767719568873076, -0.4441126687075084, 0.9928726480845371, -0.11478481378318722, -0.026551154023966794, -0.8979276806892913, -0.4441126687075084, 0.16735570030280691, 0.5661076368981803, -0.8979276806892913, 0.9200260381967907, -0.8555199789753223, -0.8555199789753223, 0.8268286794901034, -0.9851462604682474, 0.25382336276203626, -0.4441126687075084, -0.7391806966492228, 0.43616475524782494, -0.6767719568873076, -0.4441126687075084]\n"
     ]
    }
   ],
   "source": [
    "import math\n",
    "sinnum=list(map(lambda x: math.sin(x), numbers))\n",
    "print(sinnum)"
   ]
  },
  {
   "cell_type": "code",
   "execution_count": 48,
   "metadata": {},
   "outputs": [
    {
     "name": "stdout",
     "output_type": "stream",
     "text": [
      "[76, 72, 58, 80, 62, 56, 64, 74, 56, 58, 70, 80, 68, 60, 56, 78, 60, 68, 58, 60, 70, 62, 74, 56, 74, 80, 66, 68, 58, 68, 70, 68, 66, 80, 70, 78, 58, 66, 68, 76, 68, 64, 74, 72, 62]\n"
     ]
    }
   ],
   "source": [
    "sinnum2=list(filter(lambda x:x%2==0, numbers))\n",
    "print(sinnum2)"
   ]
  },
  {
   "cell_type": "code",
   "execution_count": 49,
   "metadata": {},
   "outputs": [
    {
     "name": "stdout",
     "output_type": "stream",
     "text": [
      "[63, 65, 61, 63, 59, 65, 69, 63, 63, 61, 77, 55, 65, 57, 69, 63, 77, 73, 61, 59, 57, 75, 77, 71, 67, 71, 77, 55, 75, 75, 63, 59, 79, 59, 61, 61, 67, 73, 71, 71, 75, 79, 63, 73, 79, 69, 79, 63, 67, 67, 65, 79, 57, 73, 79]\n"
     ]
    }
   ],
   "source": [
    "sinnum2=list(filter(lambda x:x%2!=0, numbers))\n",
    "print(sinnum2)"
   ]
  },
  {
   "cell_type": "code",
   "execution_count": 50,
   "metadata": {},
   "outputs": [
    {
     "name": "stdout",
     "output_type": "stream",
     "text": [
      "Help on int object:\n",
      "\n",
      "class int(object)\n",
      " |  int([x]) -> integer\n",
      " |  int(x, base=10) -> integer\n",
      " |  \n",
      " |  Convert a number or string to an integer, or return 0 if no arguments\n",
      " |  are given.  If x is a number, return x.__int__().  For floating point\n",
      " |  numbers, this truncates towards zero.\n",
      " |  \n",
      " |  If x is not a number or if base is given, then x must be a string,\n",
      " |  bytes, or bytearray instance representing an integer literal in the\n",
      " |  given base.  The literal can be preceded by '+' or '-' and be surrounded\n",
      " |  by whitespace.  The base defaults to 10.  Valid bases are 0 and 2-36.\n",
      " |  Base 0 means to interpret the base from the string as an integer literal.\n",
      " |  >>> int('0b100', base=0)\n",
      " |  4\n",
      " |  \n",
      " |  Built-in subclasses:\n",
      " |      bool\n",
      " |  \n",
      " |  Methods defined here:\n",
      " |  \n",
      " |  __abs__(self, /)\n",
      " |      abs(self)\n",
      " |  \n",
      " |  __add__(self, value, /)\n",
      " |      Return self+value.\n",
      " |  \n",
      " |  __and__(self, value, /)\n",
      " |      Return self&value.\n",
      " |  \n",
      " |  __bool__(self, /)\n",
      " |      self != 0\n",
      " |  \n",
      " |  __ceil__(...)\n",
      " |      Ceiling of an Integral returns itself.\n",
      " |  \n",
      " |  __divmod__(self, value, /)\n",
      " |      Return divmod(self, value).\n",
      " |  \n",
      " |  __eq__(self, value, /)\n",
      " |      Return self==value.\n",
      " |  \n",
      " |  __float__(self, /)\n",
      " |      float(self)\n",
      " |  \n",
      " |  __floor__(...)\n",
      " |      Flooring an Integral returns itself.\n",
      " |  \n",
      " |  __floordiv__(self, value, /)\n",
      " |      Return self//value.\n",
      " |  \n",
      " |  __format__(self, format_spec, /)\n",
      " |      Default object formatter.\n",
      " |  \n",
      " |  __ge__(self, value, /)\n",
      " |      Return self>=value.\n",
      " |  \n",
      " |  __getattribute__(self, name, /)\n",
      " |      Return getattr(self, name).\n",
      " |  \n",
      " |  __getnewargs__(self, /)\n",
      " |  \n",
      " |  __gt__(self, value, /)\n",
      " |      Return self>value.\n",
      " |  \n",
      " |  __hash__(self, /)\n",
      " |      Return hash(self).\n",
      " |  \n",
      " |  __index__(self, /)\n",
      " |      Return self converted to an integer, if self is suitable for use as an index into a list.\n",
      " |  \n",
      " |  __int__(self, /)\n",
      " |      int(self)\n",
      " |  \n",
      " |  __invert__(self, /)\n",
      " |      ~self\n",
      " |  \n",
      " |  __le__(self, value, /)\n",
      " |      Return self<=value.\n",
      " |  \n",
      " |  __lshift__(self, value, /)\n",
      " |      Return self<<value.\n",
      " |  \n",
      " |  __lt__(self, value, /)\n",
      " |      Return self<value.\n",
      " |  \n",
      " |  __mod__(self, value, /)\n",
      " |      Return self%value.\n",
      " |  \n",
      " |  __mul__(self, value, /)\n",
      " |      Return self*value.\n",
      " |  \n",
      " |  __ne__(self, value, /)\n",
      " |      Return self!=value.\n",
      " |  \n",
      " |  __neg__(self, /)\n",
      " |      -self\n",
      " |  \n",
      " |  __or__(self, value, /)\n",
      " |      Return self|value.\n",
      " |  \n",
      " |  __pos__(self, /)\n",
      " |      +self\n",
      " |  \n",
      " |  __pow__(self, value, mod=None, /)\n",
      " |      Return pow(self, value, mod).\n",
      " |  \n",
      " |  __radd__(self, value, /)\n",
      " |      Return value+self.\n",
      " |  \n",
      " |  __rand__(self, value, /)\n",
      " |      Return value&self.\n",
      " |  \n",
      " |  __rdivmod__(self, value, /)\n",
      " |      Return divmod(value, self).\n",
      " |  \n",
      " |  __repr__(self, /)\n",
      " |      Return repr(self).\n",
      " |  \n",
      " |  __rfloordiv__(self, value, /)\n",
      " |      Return value//self.\n",
      " |  \n",
      " |  __rlshift__(self, value, /)\n",
      " |      Return value<<self.\n",
      " |  \n",
      " |  __rmod__(self, value, /)\n",
      " |      Return value%self.\n",
      " |  \n",
      " |  __rmul__(self, value, /)\n",
      " |      Return value*self.\n",
      " |  \n",
      " |  __ror__(self, value, /)\n",
      " |      Return value|self.\n",
      " |  \n",
      " |  __round__(...)\n",
      " |      Rounding an Integral returns itself.\n",
      " |      Rounding with an ndigits argument also returns an integer.\n",
      " |  \n",
      " |  __rpow__(self, value, mod=None, /)\n",
      " |      Return pow(value, self, mod).\n",
      " |  \n",
      " |  __rrshift__(self, value, /)\n",
      " |      Return value>>self.\n",
      " |  \n",
      " |  __rshift__(self, value, /)\n",
      " |      Return self>>value.\n",
      " |  \n",
      " |  __rsub__(self, value, /)\n",
      " |      Return value-self.\n",
      " |  \n",
      " |  __rtruediv__(self, value, /)\n",
      " |      Return value/self.\n",
      " |  \n",
      " |  __rxor__(self, value, /)\n",
      " |      Return value^self.\n",
      " |  \n",
      " |  __sizeof__(self, /)\n",
      " |      Returns size in memory, in bytes.\n",
      " |  \n",
      " |  __sub__(self, value, /)\n",
      " |      Return self-value.\n",
      " |  \n",
      " |  __truediv__(self, value, /)\n",
      " |      Return self/value.\n",
      " |  \n",
      " |  __trunc__(...)\n",
      " |      Truncating an Integral returns itself.\n",
      " |  \n",
      " |  __xor__(self, value, /)\n",
      " |      Return self^value.\n",
      " |  \n",
      " |  as_integer_ratio(self, /)\n",
      " |      Return integer ratio.\n",
      " |      \n",
      " |      Return a pair of integers, whose ratio is exactly equal to the original int\n",
      " |      and with a positive denominator.\n",
      " |      \n",
      " |      >>> (10).as_integer_ratio()\n",
      " |      (10, 1)\n",
      " |      >>> (-10).as_integer_ratio()\n",
      " |      (-10, 1)\n",
      " |      >>> (0).as_integer_ratio()\n",
      " |      (0, 1)\n",
      " |  \n",
      " |  bit_length(self, /)\n",
      " |      Number of bits necessary to represent self in binary.\n",
      " |      \n",
      " |      >>> bin(37)\n",
      " |      '0b100101'\n",
      " |      >>> (37).bit_length()\n",
      " |      6\n",
      " |  \n",
      " |  conjugate(...)\n",
      " |      Returns self, the complex conjugate of any int.\n",
      " |  \n",
      " |  to_bytes(self, /, length, byteorder, *, signed=False)\n",
      " |      Return an array of bytes representing an integer.\n",
      " |      \n",
      " |      length\n",
      " |        Length of bytes object to use.  An OverflowError is raised if the\n",
      " |        integer is not representable with the given number of bytes.\n",
      " |      byteorder\n",
      " |        The byte order used to represent the integer.  If byteorder is 'big',\n",
      " |        the most significant byte is at the beginning of the byte array.  If\n",
      " |        byteorder is 'little', the most significant byte is at the end of the\n",
      " |        byte array.  To request the native byte order of the host system, use\n",
      " |        `sys.byteorder' as the byte order value.\n",
      " |      signed\n",
      " |        Determines whether two's complement is used to represent the integer.\n",
      " |        If signed is False and a negative integer is given, an OverflowError\n",
      " |        is raised.\n",
      " |  \n",
      " |  ----------------------------------------------------------------------\n",
      " |  Class methods defined here:\n",
      " |  \n",
      " |  from_bytes(bytes, byteorder, *, signed=False) from builtins.type\n",
      " |      Return the integer represented by the given array of bytes.\n",
      " |      \n",
      " |      bytes\n",
      " |        Holds the array of bytes to convert.  The argument must either\n",
      " |        support the buffer protocol or be an iterable object producing bytes.\n",
      " |        Bytes and bytearray are examples of built-in objects that support the\n",
      " |        buffer protocol.\n",
      " |      byteorder\n",
      " |        The byte order used to represent the integer.  If byteorder is 'big',\n",
      " |        the most significant byte is at the beginning of the byte array.  If\n",
      " |        byteorder is 'little', the most significant byte is at the end of the\n",
      " |        byte array.  To request the native byte order of the host system, use\n",
      " |        `sys.byteorder' as the byte order value.\n",
      " |      signed\n",
      " |        Indicates whether two's complement is used to represent the integer.\n",
      " |  \n",
      " |  ----------------------------------------------------------------------\n",
      " |  Static methods defined here:\n",
      " |  \n",
      " |  __new__(*args, **kwargs) from builtins.type\n",
      " |      Create and return a new object.  See help(type) for accurate signature.\n",
      " |  \n",
      " |  ----------------------------------------------------------------------\n",
      " |  Data descriptors defined here:\n",
      " |  \n",
      " |  denominator\n",
      " |      the denominator of a rational number in lowest terms\n",
      " |  \n",
      " |  imag\n",
      " |      the imaginary part of a complex number\n",
      " |  \n",
      " |  numerator\n",
      " |      the numerator of a rational number in lowest terms\n",
      " |  \n",
      " |  real\n",
      " |      the real part of a complex number\n",
      "\n"
     ]
    }
   ],
   "source": [
    "help(counter)"
   ]
  },
  {
   "cell_type": "code",
   "execution_count": null,
   "metadata": {},
   "outputs": [],
   "source": []
  }
 ],
 "metadata": {
  "kernelspec": {
   "display_name": "Python 3",
   "language": "python",
   "name": "python3"
  },
  "language_info": {
   "codemirror_mode": {
    "name": "ipython",
    "version": 3
   },
   "file_extension": ".py",
   "mimetype": "text/x-python",
   "name": "python",
   "nbconvert_exporter": "python",
   "pygments_lexer": "ipython3",
   "version": "3.8.5"
  }
 },
 "nbformat": 4,
 "nbformat_minor": 4
}
