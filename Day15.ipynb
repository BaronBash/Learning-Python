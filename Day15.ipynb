{
 "cells": [
  {
   "cell_type": "code",
   "execution_count": 1,
   "metadata": {},
   "outputs": [],
   "source": [
    "# write a python program to find those numbers that are divisible by 7 and multiples of 5\n",
    "#write a program to accept a word from a user and reverse it"
   ]
  },
  {
   "cell_type": "code",
   "execution_count": 56,
   "metadata": {},
   "outputs": [
    {
     "name": "stdout",
     "output_type": "stream",
     "text": [
      "[1505, 1540, 1575, 1610, 1645, 1680, 1715, 1750, 1785, 1820, 1855, 1890, 1925, 1960, 1995, 2030, 2065, 2100, 2135, 2170, 2205, 2240, 2275, 2310, 2345, 2380, 2415, 2450, 2485, 2520, 2555, 2590, 2625, 2660, 2695]\n"
     ]
    }
   ],
   "source": [
    "numbers = []\n",
    "for i in range (1500,2701):\n",
    "    if (i%7 ==0) and (i%5 == 0):\n",
    "        numbers.append(i)\n",
    "print (numbers)"
   ]
  },
  {
   "cell_type": "code",
   "execution_count": 58,
   "metadata": {},
   "outputs": [
    {
     "name": "stdout",
     "output_type": "stream",
     "text": [
      "write a stringHellooo\n",
      "ooolleH\n"
     ]
    }
   ],
   "source": [
    "x=(input ('write a string')) [::-1]\n",
    "print (x)"
   ]
  },
  {
   "cell_type": "code",
   "execution_count": 50,
   "metadata": {},
   "outputs": [
    {
     "name": "stdout",
     "output_type": "stream",
     "text": [
      "0\n",
      "1\n",
      "2\n",
      "4\n",
      "5\n"
     ]
    }
   ],
   "source": [
    "#Write a python program that prints all numbers from 0 to 6 except 3 and 6\n",
    "import math\n",
    "for i in (0,1,2,4,5):\n",
    "    print (i)"
   ]
  },
  {
   "cell_type": "code",
   "execution_count": 59,
   "metadata": {},
   "outputs": [
    {
     "name": "stdout",
     "output_type": "stream",
     "text": [
      "0 1 2 4 5 "
     ]
    }
   ],
   "source": [
    "for x in range (6):\n",
    "    if (x ==3 or x==6):\n",
    "        continue\n",
    "    print(x, end= ' ')"
   ]
  },
  {
   "cell_type": "markdown",
   "metadata": {},
   "source": [
    "# Access Modes"
   ]
  },
  {
   "cell_type": "code",
   "execution_count": 63,
   "metadata": {},
   "outputs": [],
   "source": [
    "#Acess mode 'w'\n",
    "file = open('demo.doc','w')\n",
    "file.write (\"\"\"\"Python is fun  \n",
    "python is educative\n",
    "python is easy to learn\"\"\")\n",
    "file.close()"
   ]
  },
  {
   "cell_type": "code",
   "execution_count": 64,
   "metadata": {},
   "outputs": [
    {
     "name": "stdout",
     "output_type": "stream",
     "text": [
      "\"Python is fun  \n",
      "python is educative\n",
      "python is easy to learn\n"
     ]
    }
   ],
   "source": [
    "#Access mode 'r'\n",
    "file1=open('demo.doc','r')\n",
    "print(file1.read())\n",
    "file1.close()"
   ]
  },
  {
   "cell_type": "code",
   "execution_count": 67,
   "metadata": {},
   "outputs": [],
   "source": [
    "#Access mode 'a'\n",
    "file2 = open('demo.doc','a')\n",
    "file2.write ('''/n\n",
    "Python is also a high level language\n",
    "Python is a general purpose language\n",
    "research says that 90% of python users are data scientists''')\n",
    "file.close()"
   ]
  },
  {
   "cell_type": "code",
   "execution_count": 68,
   "metadata": {},
   "outputs": [
    {
     "name": "stdout",
     "output_type": "stream",
     "text": [
      "\"Python is fun  \n",
      "python is educative\n",
      "python is easy to learn/n\n",
      "Python is also a high level language\n",
      "Python is a general purpose language\n",
      "research says that 90% of python users are data scientists/n\n",
      "Python is also a high level language\n",
      "Python is a general purpose language\n",
      "research says that 90% of python users are data scientists\n"
     ]
    }
   ],
   "source": [
    "#Access mode 'r'\n",
    "file2=open('demo.doc','r')\n",
    "print(file2.read())\n",
    "file2.close()"
   ]
  },
  {
   "cell_type": "code",
   "execution_count": 70,
   "metadata": {},
   "outputs": [
    {
     "name": "stdout",
     "output_type": "stream",
     "text": [
      "\"Python is fun  \n",
      "python is educative\n",
      "python is easy to learn/n\n",
      "Python is also a high level language\n",
      "Python is a general purpose language\n",
      "research says that 90% of python users are data scientists/n\n",
      "Python is also a high level language\n",
      "Python is a general purpose language\n",
      "research says that 90% of python users are data scientistsPython was created from c++\n"
     ]
    }
   ],
   "source": [
    "#read and write 'r+'\n",
    "file3=open('demo.doc','r+')\n",
    "print(file3.read())\n",
    "file3.write('Python was created from c++')\n",
    "file3.close()"
   ]
  },
  {
   "cell_type": "code",
   "execution_count": 71,
   "metadata": {},
   "outputs": [],
   "source": [
    "#Create a text file called guest write a file to add ten guest names and time of arrival\n",
    "#read and add 5 extra guests\n",
    "file = open('guests.doc','w')\n",
    "file.write (''' 1. Heung Min Son 6:00\n",
    "2. Harry Kane 5:55\n",
    "3. Dejan Kulusevski 6:30\n",
    "4. Rodrigo Bentancur 6;00\n",
    "5. Pierre Hojbjerg 5;50\n",
    "6. Sergio Reguilon 7:00\n",
    "7. Doherty 7:00\n",
    "8. Ben Davies 7:00\n",
    "9. Eric Dier 6:00\n",
    "10. Cristian Romero 6:30''')\n",
    "file.close()"
   ]
  },
  {
   "cell_type": "code",
   "execution_count": 72,
   "metadata": {},
   "outputs": [
    {
     "name": "stdout",
     "output_type": "stream",
     "text": [
      " 1. Heung Min Son 6:00\n",
      "2. Harry Kane 5:55\n",
      "3. Dejan Kulusevski 6:30\n",
      "4. Rodrigo Bentancur 6;00\n",
      "5. Pierre Hojbjerg 5;50\n",
      "6. Sergio Reguilon 7:00\n",
      "7. Doherty 7:00\n",
      "8. Ben Davies 7:00\n",
      "9. Eric Dier 6:00\n",
      "10. Cristian Romero 6:30\n"
     ]
    }
   ],
   "source": [
    "file1=open('guests.doc','r')\n",
    "print(file1.read())\n",
    "file1.close()"
   ]
  },
  {
   "cell_type": "code",
   "execution_count": 73,
   "metadata": {},
   "outputs": [],
   "source": [
    "file2 = open('guests.doc','a')\n",
    "file2.write ('''/n\n",
    "11. Hugo Lloris 6:00\n",
    "12. Ryan Sessegnon 6:30\n",
    "13. Steven Bergwijn 6:50\n",
    "14. Lucas Moura 6:20\n",
    "15. Oliver Skipp 6:00''')\n",
    "file.close()"
   ]
  },
  {
   "cell_type": "code",
   "execution_count": 74,
   "metadata": {},
   "outputs": [
    {
     "name": "stdout",
     "output_type": "stream",
     "text": [
      " 1. Heung Min Son 6:00\n",
      "2. Harry Kane 5:55\n",
      "3. Dejan Kulusevski 6:30\n",
      "4. Rodrigo Bentancur 6;00\n",
      "5. Pierre Hojbjerg 5;50\n",
      "6. Sergio Reguilon 7:00\n",
      "7. Doherty 7:00\n",
      "8. Ben Davies 7:00\n",
      "9. Eric Dier 6:00\n",
      "10. Cristian Romero 6:30/n\n",
      "11. Hugo Lloris 6:00\n",
      "12. Ryan Sessegnon 6:30\n",
      "13. Steven Bergwijn 6:50\n",
      "14. Lucas Moura 6:20\n",
      "15. Oliver Skipp 6:00\n"
     ]
    }
   ],
   "source": [
    "file2=open('guests.doc','r')\n",
    "print(file2.read())\n",
    "file2.close()"
   ]
  },
  {
   "cell_type": "code",
   "execution_count": 75,
   "metadata": {},
   "outputs": [],
   "source": [
    "#Create a text file called guest write a file to add ten guest names and time of arrival\n",
    "#read and add 5 extra guests\n",
    "file = open('guests1.txt','w')\n",
    "file.write (''' 1. Heung Min Son 6:00\n",
    "2. Harry Kane 5:55\n",
    "3. Dejan Kulusevski 6:30\n",
    "4. Rodrigo Bentancur 6;00\n",
    "5. Pierre Hojbjerg 5;50\n",
    "6. Sergio Reguilon 7:00\n",
    "7. Doherty 7:00\n",
    "8. Ben Davies 7:00\n",
    "9. Eric Dier 6:00\n",
    "10. Cristian Romero 6:30''')\n",
    "file.close()"
   ]
  },
  {
   "cell_type": "code",
   "execution_count": 76,
   "metadata": {},
   "outputs": [
    {
     "name": "stdout",
     "output_type": "stream",
     "text": [
      " 1. Heung Min Son 6:00\n",
      "2. Harry Kane 5:55\n",
      "3. Dejan Kulusevski 6:30\n",
      "4. Rodrigo Bentancur 6;00\n",
      "5. Pierre Hojbjerg 5;50\n",
      "6. Sergio Reguilon 7:00\n",
      "7. Doherty 7:00\n",
      "8. Ben Davies 7:00\n",
      "9. Eric Dier 6:00\n",
      "10. Cristian Romero 6:30\n"
     ]
    }
   ],
   "source": [
    "file1=open('guests1.txt','r')\n",
    "print(file1.read())\n",
    "file1.close()"
   ]
  },
  {
   "cell_type": "code",
   "execution_count": null,
   "metadata": {},
   "outputs": [],
   "source": []
  }
 ],
 "metadata": {
  "kernelspec": {
   "display_name": "Python 3",
   "language": "python",
   "name": "python3"
  },
  "language_info": {
   "codemirror_mode": {
    "name": "ipython",
    "version": 3
   },
   "file_extension": ".py",
   "mimetype": "text/x-python",
   "name": "python",
   "nbconvert_exporter": "python",
   "pygments_lexer": "ipython3",
   "version": "3.8.5"
  }
 },
 "nbformat": 4,
 "nbformat_minor": 4
}
